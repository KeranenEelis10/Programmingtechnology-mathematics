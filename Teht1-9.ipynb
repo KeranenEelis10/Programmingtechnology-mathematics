{
 "cells": [
  {
   "cell_type": "code",
   "execution_count": 1,
   "metadata": {},
   "outputs": [],
   "source": [
    "#Teht1\n",
    "\n",
    "pituusJakauma = {\n",
    "    (1.51, 1.53): 2,\n",
    "    (1.54, 1.56): 2,\n",
    "    (1.57, 1.59): 5,\n",
    "    (1.60, 1.62): 38,\n",
    "    (1.63, 1.65): 62,\n",
    "    (1.66, 1.68): 110,\n",
    "    (1.69, 1.71): 126,\n",
    "    (1.72, 1.74): 130,\n",
    "    (1.75, 1.77): 126,\n",
    "    (1.78, 1.80): 72,\n",
    "    (1.81, 1.83): 42,\n",
    "    (1.84, 1.86): 23,\n",
    "    (1.87, 1.89): 7,\n",
    "    (1.90, 1.92): 1\n",
    "}\n",
    "\n",
    "allStudents = sum(pituusJakauma.values())"
   ]
  },
  {
   "cell_type": "code",
   "execution_count": 3,
   "metadata": {},
   "outputs": [],
   "source": [
    "def calcTodNak(start, end):\n",
    "    count = 0\n",
    "    for (lower, upper), freq in pituusJakauma.items():\n",
    "        if lower >= start and upper <= end:\n",
    "            count += freq\n",
    "    return count / allStudents"
   ]
  },
  {
   "cell_type": "code",
   "execution_count": 4,
   "metadata": {},
   "outputs": [
    {
     "name": "stdout",
     "output_type": "stream",
     "text": [
      "Todennäköisyys olla yli 180cm: 0.09785522788203753\n"
     ]
    }
   ],
   "source": [
    "# A\n",
    "\n",
    "todYli180 = calcTodNak(1.81, 1.92)\n",
    "\n",
    "print(\"Todennäköisyys olla yli 180cm:\", todYli180)"
   ]
  },
  {
   "cell_type": "code",
   "execution_count": 5,
   "metadata": {},
   "outputs": [
    {
     "name": "stdout",
     "output_type": "stream",
     "text": [
      "Todennäköisyys olla 163-174 cm: 0.5737265415549598\n"
     ]
    }
   ],
   "source": [
    "# B\n",
    "\n",
    "tod163Ja174 = calcTodNak(1.63, 1.74)\n",
    "\n",
    "print(\"Todennäköisyys olla 163-174 cm:\", tod163Ja174)"
   ]
  },
  {
   "cell_type": "code",
   "execution_count": 6,
   "metadata": {},
   "outputs": [
    {
     "name": "stdout",
     "output_type": "stream",
     "text": [
      "Toennäköisyys olla alle 160 0.012064343163538873\n"
     ]
    }
   ],
   "source": [
    "# C\n",
    "\n",
    "todAlle160 = calcTodNak(1.51, 1.59)\n",
    "\n",
    "print(\"Toennäköisyys olla alle 160\", todAlle160)"
   ]
  },
  {
   "cell_type": "code",
   "execution_count": 18,
   "metadata": {},
   "outputs": [],
   "source": [
    "#Teht 2\n",
    "\n",
    "janat = [\n",
    "    [2, 3, 0, 5, 6, 1, 2, 4, 3, 1, 3, 2],\n",
    "    [1, 0, 1, 1, 0, 2, 1, 1, 0, 5, 0, 2],\n",
    "    [5, 3, 1, 1, 2, 0, 4, 3, 0, 0, 2, 1],\n",
    "    [0, 3, 5, 4, 2, 0, 5, 3, 1, 6, 2, 4],\n",
    "    [1, 1, 4, 7, 2, 0, 2, 1, 0, 4, 4, 3]\n",
    "]\n"
   ]
  },
  {
   "cell_type": "code",
   "execution_count": 19,
   "metadata": {},
   "outputs": [],
   "source": [
    "kaikkiJanat = [item for sublist in janat for item in sublist]"
   ]
  },
  {
   "cell_type": "code",
   "execution_count": 20,
   "metadata": {},
   "outputs": [],
   "source": [
    "kaikkiArviot = len(kaikkiJanat)"
   ]
  },
  {
   "cell_type": "code",
   "execution_count": 21,
   "metadata": {},
   "outputs": [],
   "source": [
    "pituusLasku = {}\n",
    "for janaLista in janat:\n",
    "    for error in janaLista:\n",
    "        pituus = error\n",
    "        if pituus in pituusLasku:\n",
    "            pituusLasku[pituus] += 1\n",
    "        else:\n",
    "            pituusLasku[pituus] = 1"
   ]
  },
  {
   "cell_type": "code",
   "execution_count": 22,
   "metadata": {},
   "outputs": [],
   "source": [
    "oikeatArviot = sum(count for pituus, count in pituusLasku.items() if pituus <= 1)"
   ]
  },
  {
   "cell_type": "code",
   "execution_count": 24,
   "metadata": {},
   "outputs": [
    {
     "name": "stdout",
     "output_type": "stream",
     "text": [
      "Todennäköisyys arvioida pituus oikein: 0.43333333333333335\n"
     ]
    }
   ],
   "source": [
    "TodNäkOikeaArvaus = oikeatArviot / kaikkiArviot\n",
    "\n",
    "print(\"Todennäköisyys arvioida pituus oikein:\", TodNäkOikeaArvaus)"
   ]
  },
  {
   "cell_type": "code",
   "execution_count": 25,
   "metadata": {},
   "outputs": [],
   "source": [
    "#Teht3\n",
    "\n",
    "korjausToimenpiteet = {\n",
    "    \"0 - 10,000\": 50,\n",
    "    \"10,001 - 20,000\": 93,\n",
    "    \"20,001 - 30,000\": 293,\n",
    "    \"30,001 - 40,000\": 391,\n",
    "    \"40,001 - 50,000\": 183,\n",
    "    \"50,001 -\": 40\n",
    "}"
   ]
  },
  {
   "cell_type": "code",
   "execution_count": 26,
   "metadata": {},
   "outputs": [],
   "source": [
    "kaikkiAutot = sum(korjausToimenpiteet.values())"
   ]
  },
  {
   "cell_type": "code",
   "execution_count": 27,
   "metadata": {},
   "outputs": [],
   "source": [
    "def laskeTodNäk(start, end):\n",
    "    count = sum(value for key, value in korjausToimenpiteet.items() if start <= int(key.split()[0].replace(\",\", \"\")) <= end)\n",
    "    return count / kaikkiAutot"
   ]
  },
  {
   "cell_type": "code",
   "execution_count": 29,
   "metadata": {},
   "outputs": [
    {
     "name": "stdout",
     "output_type": "stream",
     "text": [
      "Todennäköisyys korjaukselle 20 000km kohdalla 0.1361904761904762\n"
     ]
    }
   ],
   "source": [
    "# A\n",
    "\n",
    "Tehta = laskeTodNäk(0, 20000)\n",
    "\n",
    "print(\"Todennäköisyys korjaukselle 20 000km kohdalla\", Tehta)"
   ]
  },
  {
   "cell_type": "code",
   "execution_count": 31,
   "metadata": {},
   "outputs": [
    {
     "name": "stdout",
     "output_type": "stream",
     "text": [
      "Todennäköisyys korjaukselle 20 001-30 000 km välillä 0.27904761904761904\n"
     ]
    }
   ],
   "source": [
    "# B\n",
    "\n",
    "Tehtb = laskeTodNäk(20001, 30000)\n",
    "\n",
    "print(\"Todennäköisyys korjaukselle 20 001-30 000 km välillä\", Tehtb)"
   ]
  },
  {
   "cell_type": "code",
   "execution_count": 33,
   "metadata": {},
   "outputs": [
    {
     "name": "stdout",
     "output_type": "stream",
     "text": [
      "Todennäköisyys korjaukselle 30 001-40 000 km välillä: 0.37238095238095237\n"
     ]
    }
   ],
   "source": [
    "# C\n",
    "\n",
    "Tehtc = laskeTodNäk(30001, 40000)\n",
    "\n",
    "print(\"Todennäköisyys korjaukselle 30 001-40 000 km välillä:\", Tehtc)"
   ]
  },
  {
   "cell_type": "code",
   "execution_count": 35,
   "metadata": {},
   "outputs": [
    {
     "name": "stdout",
     "output_type": "stream",
     "text": [
      "Todennäköisyys korjaukselle 40 000 km jälkeen 0.2123809523809524\n"
     ]
    }
   ],
   "source": [
    "# D\n",
    "\n",
    "Tehtd = laskeTodNäk(40001, float('inf'))\n",
    "\n",
    "print(\"Todennäköisyys korjaukselle 40 000 km jälkeen\", Tehtd)"
   ]
  },
  {
   "cell_type": "code",
   "execution_count": 40,
   "metadata": {},
   "outputs": [
    {
     "name": "stdout",
     "output_type": "stream",
     "text": [
      "Todennäköisyys että auto jolle ei ole tehty korjausta ensimmäisen 30 000km aikana joutuu korjaukseen seuraavan 10 000km aikana 0.06490068027210884\n"
     ]
    }
   ],
   "source": [
    "# E\n",
    "\n",
    "Tehte = laskeTodNäk(30001, 40000) * laskeTodNäk(40001, 50000)\n",
    "\n",
    "print(\"Todennäköisyys että auto jolle ei ole tehty korjausta ensimmäisen 30 000km aikana joutuu korjaukseen seuraavan 10 000km aikana\", Tehte)"
   ]
  },
  {
   "cell_type": "code",
   "execution_count": 41,
   "metadata": {},
   "outputs": [],
   "source": [
    "#Teht4 \n",
    "\n",
    "noppa = 6\n"
   ]
  },
  {
   "cell_type": "code",
   "execution_count": 42,
   "metadata": {},
   "outputs": [],
   "source": [
    "noppaLuku = {i: 0 for i in range(2, 2 * noppa + 1)}"
   ]
  },
  {
   "cell_type": "code",
   "execution_count": 43,
   "metadata": {},
   "outputs": [],
   "source": [
    "for noppa1 in range(1, noppa + 1):\n",
    "    for noppa2 in range(1, noppa + 1):\n",
    "        noppaLuku[noppa1 + noppa2] += 1"
   ]
  },
  {
   "cell_type": "code",
   "execution_count": 44,
   "metadata": {},
   "outputs": [],
   "source": [
    "kaikkiTulokset = noppa ** 2\n"
   ]
  },
  {
   "cell_type": "code",
   "execution_count": 47,
   "metadata": {},
   "outputs": [
    {
     "name": "stdout",
     "output_type": "stream",
     "text": [
      "TodNäk summalle 1: 0.0\n"
     ]
    }
   ],
   "source": [
    "# A\n",
    "\n",
    "Tehta = noppaLuku.get(1, 0) / kaikkiTulokset\n",
    "\n",
    "print(\"TodNäk summalle 1:\", Tehta)"
   ]
  },
  {
   "cell_type": "code",
   "execution_count": 48,
   "metadata": {},
   "outputs": [
    {
     "name": "stdout",
     "output_type": "stream",
     "text": [
      "TodNäk summalle 5: 0.1111111111111111\n"
     ]
    }
   ],
   "source": [
    "# B\n",
    "\n",
    "Tehtb = noppaLuku.get(5, 0) / kaikkiTulokset\n",
    "\n",
    "print(\"TodNäk summalle 5:\", Tehtb)"
   ]
  },
  {
   "cell_type": "code",
   "execution_count": 49,
   "metadata": {},
   "outputs": [
    {
     "name": "stdout",
     "output_type": "stream",
     "text": [
      "TodNäk summalle 11: 0.05555555555555555\n"
     ]
    }
   ],
   "source": [
    "#C\n",
    "\n",
    "Tehtc = noppaLuku.get(11, 0) / kaikkiTulokset\n",
    "\n",
    "print(\"TodNäk summalle 11:\", Tehtc)"
   ]
  },
  {
   "cell_type": "code",
   "execution_count": 50,
   "metadata": {},
   "outputs": [
    {
     "name": "stdout",
     "output_type": "stream",
     "text": [
      "TodNäk summalle suurempi kuin 7: 0.4166666666666667\n"
     ]
    }
   ],
   "source": [
    "# D\n",
    "\n",
    "Tehtd = sum(value for key, value in noppaLuku.items() if key > 7) / kaikkiTulokset\n",
    "\n",
    "print(\"TodNäk summalle suurempi kuin 7:\", Tehtd)"
   ]
  },
  {
   "cell_type": "code",
   "execution_count": 1,
   "metadata": {},
   "outputs": [],
   "source": [
    "# Teht 5\n",
    "\n",
    "from itertools import product"
   ]
  },
  {
   "cell_type": "code",
   "execution_count": 2,
   "metadata": {},
   "outputs": [],
   "source": [
    "tulos = ['KR', 'KL']"
   ]
  },
  {
   "cell_type": "code",
   "execution_count": 3,
   "metadata": {},
   "outputs": [],
   "source": [
    "kaikkiTulokset = list(product(tulos, repeat=3))"
   ]
  },
  {
   "cell_type": "code",
   "execution_count": 4,
   "metadata": {},
   "outputs": [],
   "source": [
    "heitto1 = 0  \n",
    "heitto2 = 0  \n",
    "heitto3 = 0  \n",
    "heitto4 = 0 \n",
    "heitto5 = 0  "
   ]
  },
  {
   "cell_type": "code",
   "execution_count": 5,
   "metadata": {},
   "outputs": [],
   "source": [
    "for outcome in kaikkiTulokset:\n",
    "    kruuna = outcome.count('KR')\n",
    "    if kruuna == 4:\n",
    "        heitto1 += 1\n",
    "    elif kruuna == 3:\n",
    "        heitto2 += 1\n",
    "    elif kruuna == 2:\n",
    "        heitto3 += 1\n",
    "    elif kruuna == 1:\n",
    "        heitto4 += 1\n",
    "    elif kruuna == 0:\n",
    "        heitto5 += 1"
   ]
  },
  {
   "cell_type": "code",
   "execution_count": 6,
   "metadata": {},
   "outputs": [],
   "source": [
    "saatuTulos = len(kaikkiTulokset)"
   ]
  },
  {
   "cell_type": "code",
   "execution_count": 7,
   "metadata": {},
   "outputs": [
    {
     "name": "stdout",
     "output_type": "stream",
     "text": [
      "Todennäköisyys saada 4 kertaa kruuna 0.0\n"
     ]
    }
   ],
   "source": [
    "# A\n",
    "\n",
    "todNäkA = heitto1 / saatuTulos\n",
    "\n",
    "print(\"Todennäköisyys saada 4 kertaa kruuna\", todNäkA)"
   ]
  },
  {
   "cell_type": "code",
   "execution_count": 8,
   "metadata": {},
   "outputs": [
    {
     "name": "stdout",
     "output_type": "stream",
     "text": [
      "Todennäköisyys saada kolme kertaa kruuna 0.125\n"
     ]
    },
    {
     "data": {
      "text/plain": [
       "(1, 8)"
      ]
     },
     "execution_count": 8,
     "metadata": {},
     "output_type": "execute_result"
    }
   ],
   "source": [
    "# B\n",
    "\n",
    "todNäkB = heitto2 / saatuTulos\n",
    "\n",
    "print(\"Todennäköisyys saada kolme kertaa kruuna\", todNäkB)\n",
    "(todNäkB).as_integer_ratio()"
   ]
  },
  {
   "cell_type": "code",
   "execution_count": 9,
   "metadata": {},
   "outputs": [
    {
     "name": "stdout",
     "output_type": "stream",
     "text": [
      "Todennäköisyys saada kaksi kertaa kruuna 0.375\n"
     ]
    },
    {
     "data": {
      "text/plain": [
       "(3, 8)"
      ]
     },
     "execution_count": 9,
     "metadata": {},
     "output_type": "execute_result"
    }
   ],
   "source": [
    "# C\n",
    "\n",
    "todNäkC = heitto3 / saatuTulos\n",
    "\n",
    "print(\"Todennäköisyys saada kaksi kertaa kruuna\", todNäkC)\n",
    "(todNäkC).as_integer_ratio()"
   ]
  },
  {
   "cell_type": "code",
   "execution_count": 10,
   "metadata": {},
   "outputs": [
    {
     "name": "stdout",
     "output_type": "stream",
     "text": [
      "Todennäköisyys saada kerran kruuna 0.375\n"
     ]
    },
    {
     "data": {
      "text/plain": [
       "(3, 8)"
      ]
     },
     "execution_count": 10,
     "metadata": {},
     "output_type": "execute_result"
    }
   ],
   "source": [
    "# D\n",
    "\n",
    "todNäkD = heitto4 / saatuTulos\n",
    "\n",
    "print(\"Todennäköisyys saada kerran kruuna\", todNäkD)\n",
    "(todNäkD).as_integer_ratio()"
   ]
  },
  {
   "cell_type": "code",
   "execution_count": 11,
   "metadata": {},
   "outputs": [
    {
     "name": "stdout",
     "output_type": "stream",
     "text": [
      "Todennäköisyys saada nolla kertaa kruuna 0.125\n"
     ]
    },
    {
     "data": {
      "text/plain": [
       "(1, 8)"
      ]
     },
     "execution_count": 11,
     "metadata": {},
     "output_type": "execute_result"
    }
   ],
   "source": [
    "# E\n",
    "\n",
    "todNäkE = heitto5 / saatuTulos\n",
    "\n",
    "print(\"Todennäköisyys saada nolla kertaa kruuna\", todNäkE)\n",
    "(todNäkE).as_integer_ratio()\n"
   ]
  },
  {
   "cell_type": "code",
   "execution_count": 12,
   "metadata": {},
   "outputs": [],
   "source": [
    "#Teht6\n",
    "\n",
    "numerot = [1, 2, 3, 4, 5]"
   ]
  },
  {
   "cell_type": "code",
   "execution_count": 13,
   "metadata": {},
   "outputs": [],
   "source": [
    "yhdistelmat = 0"
   ]
  },
  {
   "cell_type": "code",
   "execution_count": 14,
   "metadata": {},
   "outputs": [],
   "source": [
    "for tens_digit in numerot:\n",
    "    for ones_digit in numerot:\n",
    "        number = tens_digit * 10 + ones_digit\n",
    "        if number % 2 == 0 or number % 5 == 0:\n",
    "            yhdistelmat += 1"
   ]
  },
  {
   "cell_type": "code",
   "execution_count": 15,
   "metadata": {},
   "outputs": [],
   "source": [
    "kaikkiYhdistelmat = len(numerot) * len(numerot)"
   ]
  },
  {
   "cell_type": "code",
   "execution_count": 16,
   "metadata": {},
   "outputs": [],
   "source": [
    "todennakoisyys = yhdistelmat / kaikkiYhdistelmat"
   ]
  },
  {
   "cell_type": "code",
   "execution_count": 17,
   "metadata": {},
   "outputs": [
    {
     "name": "stdout",
     "output_type": "stream",
     "text": [
      "Todennäköisyys muodostaa kaksinumeroinen luku jonka voi jakaa kahdella tai viidellä on  0.6\n"
     ]
    }
   ],
   "source": [
    "print(\"Todennäköisyys muodostaa kaksinumeroinen luku jonka voi jakaa kahdella tai viidellä on \", todennakoisyys)"
   ]
  },
  {
   "cell_type": "code",
   "execution_count": 18,
   "metadata": {},
   "outputs": [],
   "source": [
    "#Teht 7\n",
    "\n",
    "noppaTeht7 = 6"
   ]
  },
  {
   "cell_type": "code",
   "execution_count": 19,
   "metadata": {},
   "outputs": [],
   "source": [
    "yhdistelmatTeht7 = 0"
   ]
  },
  {
   "cell_type": "code",
   "execution_count": 20,
   "metadata": {},
   "outputs": [],
   "source": [
    "for heitto1 in range(1, noppaTeht7 + 1):\n",
    "    for heitto2 in range(1, noppaTeht7 + 1):\n",
    "        tulosTeht7 = heitto1 + heitto2\n",
    "        if tulosTeht7 in [10, 11, 12]:\n",
    "            yhdistelmatTeht7 += 1"
   ]
  },
  {
   "cell_type": "code",
   "execution_count": 21,
   "metadata": {},
   "outputs": [],
   "source": [
    "kaikkiYhdistelmatTeht7 = noppaTeht7 ** 2"
   ]
  },
  {
   "cell_type": "code",
   "execution_count": 22,
   "metadata": {},
   "outputs": [],
   "source": [
    "todennäkoisyysTeht7 = yhdistelmatTeht7 / kaikkiYhdistelmatTeht7"
   ]
  },
  {
   "cell_type": "code",
   "execution_count": 24,
   "metadata": {},
   "outputs": [
    {
     "name": "stdout",
     "output_type": "stream",
     "text": [
      "Todennäköisyys saada pistesummaksi 10, 11 tai 12 on  0.16666666666666666\n"
     ]
    }
   ],
   "source": [
    "print(\"Todennäköisyys saada pistesummaksi 10, 11 tai 12 on \", todennäkoisyysTeht7)"
   ]
  },
  {
   "cell_type": "code",
   "execution_count": 1,
   "metadata": {},
   "outputs": [],
   "source": [
    "#Teht 8\n",
    "\n",
    "todNakMatikka = 0.15\n",
    "todNakFysiikka = 0.12\n",
    "todNakMolemmat = 0.07"
   ]
  },
  {
   "cell_type": "code",
   "execution_count": 2,
   "metadata": {},
   "outputs": [],
   "source": [
    "todNakMatikkaOnly = todNakMatikka - todNakMolemmat\n",
    "todNakFysiikkaOnly = todNakFysiikka - todNakMolemmat"
   ]
  },
  {
   "cell_type": "code",
   "execution_count": 3,
   "metadata": {},
   "outputs": [],
   "source": [
    "todNakYhteen = todNakMatikkaOnly + todNakFysiikkaOnly + todNakMolemmat"
   ]
  },
  {
   "cell_type": "code",
   "execution_count": 4,
   "metadata": {},
   "outputs": [
    {
     "name": "stdout",
     "output_type": "stream",
     "text": [
      "Todennäköisyys saada viitonen ainakin yhdessä kokeessa 0.19999999999999998\n"
     ]
    }
   ],
   "source": [
    "print(\"Todennäköisyys saada viitonen ainakin yhdessä kokeessa\", todNakYhteen)"
   ]
  },
  {
   "cell_type": "code",
   "execution_count": 12,
   "metadata": {},
   "outputs": [],
   "source": [
    "#Teht 9\n",
    "\n",
    "maxAika = 40\n",
    "vihreaValo = 20"
   ]
  },
  {
   "cell_type": "code",
   "execution_count": 13,
   "metadata": {},
   "outputs": [],
   "source": [
    "todNäk30S = vihreaValo / maxAika"
   ]
  },
  {
   "cell_type": "code",
   "execution_count": 14,
   "metadata": {},
   "outputs": [
    {
     "name": "stdout",
     "output_type": "stream",
     "text": [
      "Todennäköisyys odottaa enintään 30 sekuntia: 0.5\n"
     ]
    }
   ],
   "source": [
    "print(\"Todennäköisyys odottaa enintään 30 sekuntia:\", todNäk30S)"
   ]
  }
 ],
 "metadata": {
  "kernelspec": {
   "display_name": "Python 3",
   "language": "python",
   "name": "python3"
  },
  "language_info": {
   "codemirror_mode": {
    "name": "ipython",
    "version": 3
   },
   "file_extension": ".py",
   "mimetype": "text/x-python",
   "name": "python",
   "nbconvert_exporter": "python",
   "pygments_lexer": "ipython3",
   "version": "3.12.2"
  }
 },
 "nbformat": 4,
 "nbformat_minor": 2
}
