{
 "cells": [
  {
   "cell_type": "code",
   "execution_count": 9,
   "metadata": {},
   "outputs": [],
   "source": [
    "#Teht 10\n",
    "\n",
    "def todNäkTwoAce():\n",
    "\n",
    "    pakka = 52\n",
    "    aces = 4\n",
    "    todNäk = (aces / pakka ) * ((aces - 1) / (pakka - 1)) * 2\n",
    "    return todNäk\n"
   ]
  },
  {
   "cell_type": "code",
   "execution_count": 10,
   "metadata": {},
   "outputs": [
    {
     "name": "stdout",
     "output_type": "stream",
     "text": [
      "Todennäköisyys nostaa kaksi ässää korttipakasta on: 0.00904977375565611\n"
     ]
    }
   ],
   "source": [
    "print(\"Todennäköisyys nostaa kaksi ässää korttipakasta on:\", todNäkTwoAce())"
   ]
  },
  {
   "cell_type": "code",
   "execution_count": 11,
   "metadata": {},
   "outputs": [],
   "source": [
    "#Teht 11\n",
    "\n",
    "import itertools\n",
    "\n",
    "varit = ['pun', 'mus']\n",
    "maarat = [6, 4]\n",
    "\n",
    "kaikkiTapaukset = list(itertools.combinations(varit * sum(maarat), 2))\n",
    "\n",
    "mustatTapaukset = [t for t in kaikkiTapaukset if t.count('mus') == 2]\n",
    "\n",
    "todNak2 = len(mustatTapaukset) / len(kaikkiTapaukset)"
   ]
  },
  {
   "cell_type": "code",
   "execution_count": 12,
   "metadata": {},
   "outputs": [
    {
     "name": "stdout",
     "output_type": "stream",
     "text": [
      "Todennäköisyys molemmille mustille palloille on: 0.23684210526315788\n"
     ]
    }
   ],
   "source": [
    "print(\"Todennäköisyys molemmille mustille palloille on:\", todNak2)"
   ]
  },
  {
   "cell_type": "code",
   "execution_count": 13,
   "metadata": {},
   "outputs": [],
   "source": [
    "#Teht 12\n",
    "\n",
    "kaikkiTapaukset2 = list(itertools.product(range(1, 7), repeat=4))"
   ]
  },
  {
   "cell_type": "code",
   "execution_count": 14,
   "metadata": {},
   "outputs": [
    {
     "name": "stdout",
     "output_type": "stream",
     "text": [
      "a) Todennäköisyys saada 2 kakkosta: 0.11574074074074074\n"
     ]
    }
   ],
   "source": [
    "# A\n",
    "\n",
    "kaksiKakkosta = [t for t in kaikkiTapaukset2 if t.count(2) == 2]\n",
    "todNalKaksiKakkosta = len(kaksiKakkosta) / len(kaikkiTapaukset2)\n",
    "\n",
    "print(\"a) Todennäköisyys saada 2 kakkosta:\", todNalKaksiKakkosta)"
   ]
  },
  {
   "cell_type": "code",
   "execution_count": 15,
   "metadata": {},
   "outputs": [
    {
     "name": "stdout",
     "output_type": "stream",
     "text": [
      "b) Todennäköisyys saada 4 parillista lukua: 0.0625\n"
     ]
    }
   ],
   "source": [
    "# B\n",
    "\n",
    "neljaParillista = [t for t in kaikkiTapaukset2 if all(x % 2 == 0 for x in t)]\n",
    "todNakNeljaParillista = len(neljaParillista) / len(kaikkiTapaukset2)\n",
    "\n",
    "print(\"b) Todennäköisyys saada 4 parillista lukua:\", todNakNeljaParillista)"
   ]
  },
  {
   "cell_type": "code",
   "execution_count": 16,
   "metadata": {},
   "outputs": [
    {
     "name": "stdout",
     "output_type": "stream",
     "text": [
      "c) Todennäköisyys saada ainakin 1 kuutonen: 0.5177469135802469\n"
     ]
    }
   ],
   "source": [
    "# C\n",
    "\n",
    "ainakinYksiKuusi = [t for t in kaikkiTapaukset2 if 6 in t]\n",
    "todNakAinakinYksiKuusi = len(ainakinYksiKuusi) / len(kaikkiTapaukset2)\n",
    "\n",
    "print(\"c) Todennäköisyys saada ainakin 1 kuutonen:\", todNakAinakinYksiKuusi)"
   ]
  },
  {
   "cell_type": "code",
   "execution_count": 17,
   "metadata": {},
   "outputs": [
    {
     "name": "stdout",
     "output_type": "stream",
     "text": [
      "Todennäköisyys että ainakin yksi piirilevy on ehjä: 0.059393939393939395\n"
     ]
    }
   ],
   "source": [
    "#Teht 13\n",
    "\n",
    "kaikkiTapaukset3 = list(itertools.combinations(range(100), 2))\n",
    "\n",
    "ainakinYksiEhja = [t for t in kaikkiTapaukset3 if 0 in t or 1 in t or 2 in t]\n",
    "\n",
    "todNakAinakinYksiEhja = len(ainakinYksiEhja) / len(kaikkiTapaukset3)\n",
    "\n",
    "print(\"Todennäköisyys että ainakin yksi piirilevy on ehjä:\", todNakAinakinYksiEhja)"
   ]
  },
  {
   "cell_type": "code",
   "execution_count": 18,
   "metadata": {},
   "outputs": [],
   "source": [
    "#Teht 14\n",
    "\n",
    "kaikkiTapaukset4 = list(itertools.product(['kruuna', 'klaava'], repeat=2))"
   ]
  },
  {
   "cell_type": "code",
   "execution_count": 19,
   "metadata": {},
   "outputs": [
    {
     "name": "stdout",
     "output_type": "stream",
     "text": [
      "a) Todennäköisyys saada kaksi kruunua: 0.25\n"
     ]
    }
   ],
   "source": [
    "# A\n",
    "\n",
    "kaksiKruunua = [t for t in kaikkiTapaukset4 if t.count('kruuna') == 2]\n",
    "todNakKaksiKruunua = len(kaksiKruunua) / len(kaikkiTapaukset4)\n",
    "\n",
    "print(\"a) Todennäköisyys saada kaksi kruunua:\", todNakKaksiKruunua)"
   ]
  },
  {
   "cell_type": "code",
   "execution_count": 20,
   "metadata": {},
   "outputs": [
    {
     "name": "stdout",
     "output_type": "stream",
     "text": [
      "b) Todennäköisyys saada ainakin yksi klaava: 0.75\n"
     ]
    }
   ],
   "source": [
    "# B\n",
    "\n",
    "ainkainYksiKlaava = [t for t in kaikkiTapaukset4 if 'klaava' in t]\n",
    "todNakAinakinYksiKlaava = len(ainkainYksiKlaava) / len(kaikkiTapaukset4)\n",
    "\n",
    "print(\"b) Todennäköisyys saada ainakin yksi klaava:\", todNakAinakinYksiKlaava)"
   ]
  },
  {
   "cell_type": "code",
   "execution_count": 21,
   "metadata": {},
   "outputs": [
    {
     "name": "stdout",
     "output_type": "stream",
     "text": [
      "Pariton luku nopanheitossa on parempi todennäköisyys.\n"
     ]
    }
   ],
   "source": [
    "#Teht 15\n",
    "\n",
    "todNakPariton = 3 / 6 \n",
    "\n",
    "todNakEnintaanNelja = 4 / 6  \n",
    "\n",
    "if todNakPariton > todNakEnintaanNelja:\n",
    "    print(\"Enintään 4 nopanheitossa on parempi todennäköisyys.\")\n",
    "elif todNakPariton < todNakEnintaanNelja:\n",
    "    print(\"Pariton luku nopanheitossa on parempi todennäköisyys.\")\n",
    "else:\n",
    "    print(\"Pariton luku ja enintään 4 nopanheitossa ovat yhtä todennäköisiä.\")"
   ]
  },
  {
   "cell_type": "code",
   "execution_count": 23,
   "metadata": {},
   "outputs": [],
   "source": [
    "#Teht 16\n",
    "\n",
    "import math"
   ]
  },
  {
   "cell_type": "code",
   "execution_count": 24,
   "metadata": {},
   "outputs": [
    {
     "name": "stdout",
     "output_type": "stream",
     "text": [
      "a) Todennäköisyys, että Ari ja Emma pääsevät koneeseen: 0.1\n"
     ]
    }
   ],
   "source": [
    "# A\n",
    "\n",
    "todNakAriEmma = 1 / (math.comb(5, 2))\n",
    "\n",
    "print(\"a) Todennäköisyys, että Ari ja Emma pääsevät koneeseen:\", todNakAriEmma)"
   ]
  },
  {
   "cell_type": "code",
   "execution_count": 25,
   "metadata": {},
   "outputs": [
    {
     "name": "stdout",
     "output_type": "stream",
     "text": [
      "b) Todennäköisyys, että yksi mies ja yksi nainen pääsee koneeseen: 0.6\n"
     ]
    }
   ],
   "source": [
    "# B\n",
    "\n",
    "todNakYksiMiesNainen = (2 * 3) / (math.comb(5, 2))\n",
    "\n",
    "print(\"b) Todennäköisyys, että yksi mies ja yksi nainen pääsee koneeseen:\", todNakYksiMiesNainen)"
   ]
  },
  {
   "cell_type": "code",
   "execution_count": 26,
   "metadata": {},
   "outputs": [
    {
     "name": "stdout",
     "output_type": "stream",
     "text": [
      "c) Todennäköisyys, että yksikään mies ei pääse koneeseen: 0.3\n"
     ]
    }
   ],
   "source": [
    "# C\n",
    "\n",
    "todNakEiMiehia = math.comb(3, 2) / math.comb(5, 2)\n",
    "\n",
    "print(\"c) Todennäköisyys, että yksikään mies ei pääse koneeseen:\", todNakEiMiehia)"
   ]
  },
  {
   "cell_type": "code",
   "execution_count": 27,
   "metadata": {},
   "outputs": [
    {
     "name": "stdout",
     "output_type": "stream",
     "text": [
      "Ei kannata\n"
     ]
    }
   ],
   "source": [
    "#Teht 17\n",
    "\n",
    "todNakAinakinYksiYkkonen = 1 - (3/4) * (3/4)\n",
    "\n",
    "if todNakAinakinYksiYkkonen > 0.5:\n",
    "    print(\"Kannattaa\")\n",
    "else:\n",
    "    print(\"Ei kannata\")"
   ]
  },
  {
   "cell_type": "code",
   "execution_count": 28,
   "metadata": {},
   "outputs": [
    {
     "name": "stdout",
     "output_type": "stream",
     "text": [
      "Todennäköisyys sille että viikonloppuna sataa vettä: 0.72\n"
     ]
    }
   ],
   "source": [
    "#Teht 18\n",
    "\n",
    "todNakEiSadaLa = 1 - 0.30\n",
    "\n",
    "todNakEiSadaSu = 1 - 0.60\n",
    "\n",
    "todNakEiSadaKumpikaan = todNakEiSadaLa * todNakEiSadaSu\n",
    "\n",
    "todNakSataaVetta = 1 - todNakEiSadaKumpikaan\n",
    "\n",
    "print(\"Todennäköisyys sille että viikonloppuna sataa vettä:\", todNakSataaVetta)"
   ]
  }
 ],
 "metadata": {
  "kernelspec": {
   "display_name": "Python 3",
   "language": "python",
   "name": "python3"
  },
  "language_info": {
   "codemirror_mode": {
    "name": "ipython",
    "version": 3
   },
   "file_extension": ".py",
   "mimetype": "text/x-python",
   "name": "python",
   "nbconvert_exporter": "python",
   "pygments_lexer": "ipython3",
   "version": "3.12.2"
  }
 },
 "nbformat": 4,
 "nbformat_minor": 2
}
