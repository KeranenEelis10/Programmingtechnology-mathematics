{
 "cells": [
  {
   "cell_type": "code",
   "execution_count": 1,
   "metadata": {},
   "outputs": [
    {
     "name": "stdout",
     "output_type": "stream",
     "text": [
      "Erilaisten istumajärjestysten määrä: 263130836933693530167218012160000000\n"
     ]
    }
   ],
   "source": [
    "#Teht 19\n",
    "\n",
    "import math\n",
    "\n",
    "opiskelijat = 32\n",
    "istumajarjestykset = math.factorial(opiskelijat)\n",
    "print(\"Erilaisten istumajärjestysten määrä:\", istumajarjestykset)"
   ]
  },
  {
   "cell_type": "code",
   "execution_count": 2,
   "metadata": {},
   "outputs": [
    {
     "name": "stdout",
     "output_type": "stream",
     "text": [
      "Kättelyiden määrä: 45\n"
     ]
    }
   ],
   "source": [
    "#Teht 20\n",
    "\n",
    "# A\n",
    "\n",
    "kattelyt = 10 * 9 // 2\n",
    "print(\"Kättelyiden määrä:\", kattelyt)"
   ]
  },
  {
   "cell_type": "code",
   "execution_count": 3,
   "metadata": {},
   "outputs": [
    {
     "name": "stdout",
     "output_type": "stream",
     "text": [
      "Otteluiden määrä: 28\n"
     ]
    }
   ],
   "source": [
    "# B\n",
    "\n",
    "joukkueet = 8\n",
    "ottelut = joukkueet * (joukkueet - 1) // 2\n",
    "print(\"Otteluiden määrä:\", ottelut)"
   ]
  },
  {
   "cell_type": "code",
   "execution_count": 4,
   "metadata": {},
   "outputs": [
    {
     "name": "stdout",
     "output_type": "stream",
     "text": [
      "Vastausmahdollisuuksien määrä kaikissa kysymyksissä yhteensä: 15625\n"
     ]
    }
   ],
   "source": [
    "# Teht 21\n",
    "\n",
    "vastMahd = 5 ** 6\n",
    "print(\"Vastausmahdollisuuksien määrä kaikissa kysymyksissä yhteensä:\", vastMahd)"
   ]
  },
  {
   "cell_type": "code",
   "execution_count": 5,
   "metadata": {},
   "outputs": [
    {
     "name": "stdout",
     "output_type": "stream",
     "text": [
      "Erilaisten jonoiden määrä: 144\n"
     ]
    }
   ],
   "source": [
    "#Teht 22\n",
    "\n",
    "tytot = 4\n",
    "pojat = 3\n",
    "\n",
    "lapset = tytot + pojat\n",
    "\n",
    "jonojenMaara = math.factorial(tytot) * math.factorial(pojat)\n",
    "\n",
    "print(\"Erilaisten jonoiden määrä:\", jonojenMaara)"
   ]
  },
  {
   "cell_type": "code",
   "execution_count": 6,
   "metadata": {},
   "outputs": [
    {
     "name": "stdout",
     "output_type": "stream",
     "text": [
      "Vastausyhdistelmien määrä ilman rajoituksia: 100000000\n"
     ]
    }
   ],
   "source": [
    "#Teht 23\n",
    "\n",
    "# A\n",
    "\n",
    "vastIlmRajoituksia = 10 ** 8\n",
    "print(\"Vastausyhdistelmien määrä ilman rajoituksia:\", vastIlmRajoituksia)"
   ]
  },
  {
   "cell_type": "code",
   "execution_count": 7,
   "metadata": {},
   "outputs": [
    {
     "name": "stdout",
     "output_type": "stream",
     "text": [
      "Vastausyhdistelmien määrä, jos ensimmäiseen 3 kysymykseen on vastattava: 10000000\n"
     ]
    }
   ],
   "source": [
    "# B\n",
    "\n",
    "vastEnsimmaisetKolme = 10 ** 7\n",
    "print(\"Vastausyhdistelmien määrä, jos ensimmäiseen 3 kysymykseen on vastattava:\", vastEnsimmaisetKolme)"
   ]
  },
  {
   "cell_type": "code",
   "execution_count": 8,
   "metadata": {},
   "outputs": [
    {
     "name": "stdout",
     "output_type": "stream",
     "text": [
      "Erilaisten ryhmien määrä: 350\n"
     ]
    }
   ],
   "source": [
    "#Teht 24\n",
    "\n",
    "miehet = math.comb(7, 3)\n",
    "\n",
    "naiset = math.comb(5, 2)\n",
    "\n",
    "ryhmienMaara = miehet * naiset\n",
    "\n",
    "print(\"Erilaisten ryhmien määrä:\", ryhmienMaara)"
   ]
  },
  {
   "cell_type": "code",
   "execution_count": 9,
   "metadata": {},
   "outputs": [
    {
     "name": "stdout",
     "output_type": "stream",
     "text": [
      "Erilaisten salasanojen määrä: 292509369349301569068815180481773552003419272043053514672100535242441942363589054622883930786268803187059211939585703515345785120071002251720730101703194015956992000000000000000000000000000\n"
     ]
    }
   ],
   "source": [
    "#Teht 25\n",
    "\n",
    "# A\n",
    "\n",
    "merkkeja = 115\n",
    "salasanoja = math.factorial(merkkeja)\n",
    "print(\"Erilaisten salasanojen määrä:\", salasanoja)"
   ]
  },
  {
   "cell_type": "code",
   "execution_count": 10,
   "metadata": {},
   "outputs": [
    {
     "name": "stdout",
     "output_type": "stream",
     "text": [
      "Kestäisi 33855251082095089012594349592797864815210563893871934568530154541949298884674659099870825322484815183687408789303900869831688092600810445801010428437869677772800000000000000000000000000 päivää, 0 tuntia, 0 minuuttia ja 0 sekuntia käydä läpi kaikki mahdolliset salasanat.\n"
     ]
    }
   ],
   "source": [
    "# B\n",
    "\n",
    "arvausAika = 10\n",
    "\n",
    "kokonaisArvaukset = salasanoja * arvausAika\n",
    "\n",
    "paivat = kokonaisArvaukset // (24 * 3600)\n",
    "tunnit = (kokonaisArvaukset % (24 * 3600)) // 3600\n",
    "minuutit = (kokonaisArvaukset % 3600) // 60\n",
    "sekunnit = kokonaisArvaukset % 60\n",
    "\n",
    "print(\"Kestäisi {} päivää, {} tuntia, {} minuuttia ja {} sekuntia käydä läpi kaikki mahdolliset salasanat.\".format(paivat, tunnit, minuutit, sekunnit))"
   ]
  },
  {
   "cell_type": "code",
   "execution_count": 11,
   "metadata": {},
   "outputs": [
    {
     "name": "stdout",
     "output_type": "stream",
     "text": [
      "Erilaisten järjestysten määrä korttipakan korteille: 80658175170943878571660636856403766975289505440883277824000000000000\n"
     ]
    }
   ],
   "source": [
    "#Teht 26\n",
    "\n",
    "# A\n",
    "\n",
    "jarjestyksia = math.factorial(52)\n",
    "print(\"Erilaisten järjestysten määrä korttipakan korteille:\", jarjestyksia)"
   ]
  },
  {
   "cell_type": "code",
   "execution_count": 12,
   "metadata": {},
   "outputs": [
    {
     "name": "stdout",
     "output_type": "stream",
     "text": [
      "Todennäköisyys saada 4 ässää nostettaessa 5 korttia: 3.8476929233231754e-07\n"
     ]
    }
   ],
   "source": [
    "# B\n",
    "\n",
    "hyvaksyttavatTapaukset = 1\n",
    "kaikkiTapauksetB = math.comb(52, 5)\n",
    "todNakB = hyvaksyttavatTapaukset / kaikkiTapauksetB\n",
    "print(\"Todennäköisyys saada 4 ässää nostettaessa 5 korttia:\", todNakB)"
   ]
  },
  {
   "cell_type": "code",
   "execution_count": 13,
   "metadata": {},
   "outputs": [
    {
     "name": "stdout",
     "output_type": "stream",
     "text": [
      "Todennäköisyys saada 3 pataa ja 2 ruutua nostettaessa 5 korttia: 0.008583433373349339\n"
     ]
    }
   ],
   "source": [
    "# C\n",
    "\n",
    "hyvaksyttavatTapauksetC = math.comb(13, 3) * math.comb(13, 2)\n",
    "kaikkiTapauksetC = math.comb(52, 5)\n",
    "todNakC = hyvaksyttavatTapauksetC / kaikkiTapauksetC\n",
    "print(\"Todennäköisyys saada 3 pataa ja 2 ruutua nostettaessa 5 korttia:\", todNakC)"
   ]
  },
  {
   "cell_type": "code",
   "execution_count": 14,
   "metadata": {},
   "outputs": [
    {
     "name": "stdout",
     "output_type": "stream",
     "text": [
      "Todennäköisyys, että kaikki arvotut tehtävät ovat matematiikan tehtäviä: 0.02387934645999162\n"
     ]
    }
   ],
   "source": [
    "# Teht 27\n",
    "\n",
    "# A\n",
    "\n",
    "kaikkiTapauksetA = math.comb(35, 6)\n",
    "\n",
    "hyvaksyttavatTapauksetA = math.comb(20, 6)\n",
    "\n",
    "todNakA = hyvaksyttavatTapauksetA / kaikkiTapauksetA\n",
    "print(\"Todennäköisyys, että kaikki arvotut tehtävät ovat matematiikan tehtäviä:\", todNakA)"
   ]
  },
  {
   "cell_type": "code",
   "execution_count": 16,
   "metadata": {},
   "outputs": [
    {
     "name": "stdout",
     "output_type": "stream",
     "text": [
      "Todennäköisyys, että 3 tehtävää on matematiikan ja 3 fysiikan tehtäviä: 0.31956184233224083\n"
     ]
    }
   ],
   "source": [
    "# B\n",
    "\n",
    "kaikkiTapauksetA = math.comb(35, 6)\n",
    "hyvaksyttavatTapauksetB = math.comb(20, 3) * math.comb(15, 3)\n",
    "\n",
    "todNakoB = hyvaksyttavatTapauksetB / kaikkiTapauksetA\n",
    "print(\"Todennäköisyys, että 3 tehtävää on matematiikan ja 3 fysiikan tehtäviä:\", todNakoB)"
   ]
  },
  {
   "cell_type": "code",
   "execution_count": 17,
   "metadata": {},
   "outputs": [
    {
     "name": "stdout",
     "output_type": "stream",
     "text": [
      "Todennäköisyys saada tasan 3 kuutosta: 0.15504535957425192\n"
     ]
    }
   ],
   "source": [
    "#Teht 28\n",
    "\n",
    "todNakKuusi = 1/6\n",
    "\n",
    "heitot = 10\n",
    "tavoite = 3\n",
    "todenNakoisyys = math.comb(heitot, tavoite) * (todNakKuusi ** tavoite) * ((1 - todNakKuusi) ** (heitot - tavoite))\n",
    "print(\"Todennäköisyys saada tasan 3 kuutosta:\", todenNakoisyys)"
   ]
  },
  {
   "cell_type": "code",
   "execution_count": 18,
   "metadata": {},
   "outputs": [
    {
     "name": "stdout",
     "output_type": "stream",
     "text": [
      "Todennäköisyys saada tasan 12 riviä oikein: 1.630786233404397e-05\n"
     ]
    }
   ],
   "source": [
    "#Teht 29\n",
    "\n",
    "mahd = 1/3\n",
    "\n",
    "lappu = 13\n",
    "tavoiteOikein = 12\n",
    "todenNakoisyys1 = math.comb(lappu, tavoiteOikein) * (mahd ** tavoiteOikein) * ((1 - mahd) ** (lappu - tavoiteOikein))\n",
    "print(\"Todennäköisyys saada tasan 12 riviä oikein:\", todenNakoisyys1)"
   ]
  },
  {
   "cell_type": "code",
   "execution_count": 21,
   "metadata": {},
   "outputs": [
    {
     "name": "stdout",
     "output_type": "stream",
     "text": [
      "Todennäköisyys saada kaikki vastaukset oikein: 8.271806125530277e-25\n"
     ]
    }
   ],
   "source": [
    "#Teht 30\n",
    "\n",
    "# A\n",
    "\n",
    "todNakATeht = (1/4) ** 40\n",
    "print(\"Todennäköisyys saada kaikki vastaukset oikein:\", todNakATeht)"
   ]
  },
  {
   "cell_type": "code",
   "execution_count": 20,
   "metadata": {},
   "outputs": [
    {
     "name": "stdout",
     "output_type": "stream",
     "text": [
      "Todennäköisyys saada tasan 5 vastausta oikein: 0.027231742753245948\n"
     ]
    }
   ],
   "source": [
    "# B\n",
    "\n",
    "kysymykset = 40\n",
    "oikeatVast = 5\n",
    "mahdOikein = 1/4\n",
    "todNakBTeht = math.comb(kysymykset, oikeatVast) * (mahdOikein ** oikeatVast) * ((1 - mahdOikein) ** (kysymykset - oikeatVast))\n",
    "print(\"Todennäköisyys saada tasan 5 vastausta oikein:\", todNakBTeht)"
   ]
  },
  {
   "cell_type": "code",
   "execution_count": 22,
   "metadata": {},
   "outputs": [
    {
     "name": "stdout",
     "output_type": "stream",
     "text": [
      "Todennäköisyys saada vähintään 5 vastausta oikein: 0.9839577601812304\n"
     ]
    }
   ],
   "source": [
    "# C\n",
    "\n",
    "todNakcTeht = sum(math.comb(kysymykset, oikeatVast) * (mahdOikein ** oikeatVast) * ((1 - mahdOikein) ** (kysymykset - oikeatVast)) for oikeatVast in range(5, kysymykset+1))\n",
    "print(\"Todennäköisyys saada vähintään 5 vastausta oikein:\", todNakcTeht)"
   ]
  }
 ],
 "metadata": {
  "kernelspec": {
   "display_name": "Python 3",
   "language": "python",
   "name": "python3"
  },
  "language_info": {
   "codemirror_mode": {
    "name": "ipython",
    "version": 3
   },
   "file_extension": ".py",
   "mimetype": "text/x-python",
   "name": "python",
   "nbconvert_exporter": "python",
   "pygments_lexer": "ipython3",
   "version": "3.12.2"
  }
 },
 "nbformat": 4,
 "nbformat_minor": 2
}
