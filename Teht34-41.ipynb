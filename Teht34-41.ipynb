{
 "cells": [
  {
   "cell_type": "code",
   "execution_count": 1,
   "metadata": {},
   "outputs": [
    {
     "name": "stdout",
     "output_type": "stream",
     "text": [
      "Kuutosten lukumäärä - Todennäköisyys\n",
      "0 kuutosta: 0.48225\n",
      "1 kuutosta: 0.38580\n",
      "2 kuutosta: 0.11574\n",
      "3 kuutosta: 0.01543\n",
      "4 kuutosta: 0.00077\n"
     ]
    }
   ],
   "source": [
    "#Teht 34\n",
    "\n",
    "import math\n",
    "\n",
    "tapausLKM = 6 ** 4\n",
    "\n",
    "kuutosetLKM = []\n",
    "\n",
    "for i in range(5):\n",
    "    todNak = (math.comb(4, i) * (1/6) ** i * (5/6) ** (4 - i))\n",
    "    kuutosetLKM.append((i, todNak))\n",
    "\n",
    "print(\"Kuutosten lukumäärä - Todennäköisyys\")\n",
    "for kuutosetLKM, todNak in kuutosetLKM:\n",
    "    print(f\"{kuutosetLKM} kuutosta: {todNak:.5f}\")"
   ]
  },
  {
   "cell_type": "code",
   "execution_count": 2,
   "metadata": {},
   "outputs": [
    {
     "name": "stdout",
     "output_type": "stream",
     "text": [
      "Odotusarvo: 0.4\n",
      "Keskihajonta: 0.5656854249492381\n"
     ]
    }
   ],
   "source": [
    "#Teht 35\n",
    "\n",
    "tuotteet = 2  \n",
    "todNakHylky = 0.20  \n",
    "\n",
    "odotusarvo = tuotteet * todNakHylky\n",
    "\n",
    "keskihajonta = math.sqrt(tuotteet * todNakHylky * (1 - todNakHylky))\n",
    "\n",
    "print(\"Odotusarvo:\", odotusarvo)\n",
    "print(\"Keskihajonta:\", keskihajonta)"
   ]
  },
  {
   "cell_type": "code",
   "execution_count": 3,
   "metadata": {},
   "outputs": [
    {
     "name": "stdout",
     "output_type": "stream",
     "text": [
      "Nettovoiton odotusarvo: -100 €\n"
     ]
    }
   ],
   "source": [
    "#Teht 38\n",
    "\n",
    "voittojenMaara = 1 + 10 + 15\n",
    "voittojenSumma = (1 * 100) + (10 * 50) + (15 * 20)\n",
    "\n",
    "arpojenMaara = 1000\n",
    "arpaHinta = 1\n",
    "\n",
    "nettoOdotusArvo = voittojenSumma - (arpojenMaara * arpaHinta)\n",
    "\n",
    "print(\"Nettovoiton odotusarvo:\", nettoOdotusArvo, \"€\")"
   ]
  },
  {
   "cell_type": "code",
   "execution_count": 4,
   "metadata": {},
   "outputs": [
    {
     "name": "stdout",
     "output_type": "stream",
     "text": [
      "Voiton odotusarvo: -5.0 €\n"
     ]
    }
   ],
   "source": [
    "#Teht 39\n",
    "\n",
    "todNakKrKr = 1/4\n",
    "todNakKrKl = 1/4\n",
    "todNakKlKr = 1/4\n",
    "todNakKlKl = 1/4\n",
    "\n",
    "voittoKrKr = 40\n",
    "voittoKrKl = 20\n",
    "tappioKlKl = -100\n",
    "\n",
    "voitonOdotusArvo = (todNakKrKr * voittoKrKr) + \\\n",
    "                    (todNakKrKl * voittoKrKl) + \\\n",
    "                    (todNakKlKr * voittoKrKl) + \\\n",
    "                    (todNakKlKl * tappioKlKl)\n",
    "\n",
    "print(\"Voiton odotusarvo:\", voitonOdotusArvo, \"€\")"
   ]
  },
  {
   "cell_type": "code",
   "execution_count": 5,
   "metadata": {},
   "outputs": [
    {
     "name": "stdout",
     "output_type": "stream",
     "text": [
      "Kruunujen lukumäärä - Esiintymiskerrat\n",
      "0: 3\n",
      "1: 9\n",
      "2: 19\n",
      "3: 27\n",
      "4: 22\n",
      "5: 10\n"
     ]
    }
   ],
   "source": [
    "#Teht 41\n",
    "\n",
    "data = [\n",
    "    0, 2, 3, 2, 4, 3, 4, 3, 3, 4, 1, 4, 3, 4, 5, 3, 4, 4, 4, 4, 3, 2, 1,\n",
    "    4, 2, 3, 4, 2, 5, 3, 4, 2, 4, 2, 1, 2, 4, 2, 1, 4, 3, 2, 2, 1, 5, 2,\n",
    "    3, 1, 5, 3, 3, 3, 1, 3, 4, 2, 3, 4, 1, 3, 5, 5, 3, 2, 5, 3, 2, 3, 4,\n",
    "    2, 3, 3, 3, 2, 3, 4, 5, 5, 0, 5, 2, 3, 3, 4, 3, 0, 4, 1, 2, 4\n",
    "]\n",
    "\n",
    "jakauma = {}\n",
    "\n",
    "for kruunujenLKM in data:\n",
    "    if kruunujenLKM in jakauma:\n",
    "        jakauma[kruunujenLKM] += 1\n",
    "    else:\n",
    "        jakauma[kruunujenLKM] = 1\n",
    "\n",
    "print(\"Kruunujen lukumäärä - Esiintymiskerrat\")\n",
    "for kruunujenLKM, esiintymiskerrat in sorted(jakauma.items()):\n",
    "    print(f\"{kruunujenLKM}: {esiintymiskerrat}\")"
   ]
  }
 ],
 "metadata": {
  "kernelspec": {
   "display_name": "Python 3",
   "language": "python",
   "name": "python3"
  },
  "language_info": {
   "codemirror_mode": {
    "name": "ipython",
    "version": 3
   },
   "file_extension": ".py",
   "mimetype": "text/x-python",
   "name": "python",
   "nbconvert_exporter": "python",
   "pygments_lexer": "ipython3",
   "version": "3.12.2"
  }
 },
 "nbformat": 4,
 "nbformat_minor": 2
}
